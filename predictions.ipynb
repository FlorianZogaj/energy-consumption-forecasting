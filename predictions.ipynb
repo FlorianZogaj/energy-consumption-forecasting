{
 "cells": [
  {
   "cell_type": "code",
   "execution_count": 1,
   "metadata": {
    "collapsed": true,
    "ExecuteTime": {
     "start_time": "2025-04-11T18:55:06.727318Z",
     "end_time": "2025-04-11T18:55:06.739672Z"
    }
   },
   "outputs": [],
   "source": [
    "import pandas as pd\n",
    "import numpy as np\n",
    "import matplotlib.pyplot as plt\n",
    "import seaborn as sns"
   ]
  },
  {
   "cell_type": "code",
   "execution_count": 2,
   "outputs": [],
   "source": [
    "df_es = pd.read_csv(\"../Data/historical_metering_data_ES.csv\")\n",
    "df_es.rename(columns={df_es.columns[0]: \"DATETIME\"}, inplace=True)\n",
    "df_es['DATETIME'] = pd.to_datetime(df_es['DATETIME'])\n",
    "df_es.set_index('DATETIME', inplace=True)\n",
    "df_es[\"DATETIME\"] = df_es.index\n",
    "\n",
    "df_forecasts = pd.read_excel(\"../Data/spv_ec00_forecasts_es_it.xlsx\")\n",
    "df_forecasts.rename(columns={'Unnamed: 0': 'DATETIME'}, inplace=True)\n",
    "df_forecasts['DATETIME'] = pd.to_datetime(df_forecasts['DATETIME'])\n",
    "df_forecasts.set_index(\"DATETIME\", inplace=True)\n",
    "\n",
    "df_es = df_es.merge(df_forecasts[[\"spv\", \"temp\"]], left_index=True, right_index=True, how=\"left\")\n",
    "\n",
    "holiday_df = pd.read_excel(\"../data/holiday_ES.xlsx\")\n",
    "\n",
    "holiday_dates = pd.to_datetime(holiday_df['holiday_ES']).dt.date\n",
    "\n",
    "df_es['holiday'] = pd.Series(df_es.index.date, index=df_es.index).isin(holiday_dates).astype(int)\n",
    "\n",
    "df_es['holiday'] = df_es['holiday'].astype(int)"
   ],
   "metadata": {
    "collapsed": false,
    "ExecuteTime": {
     "start_time": "2025-04-11T18:55:08.100175Z",
     "end_time": "2025-04-11T18:55:10.372290Z"
    }
   }
  },
  {
   "cell_type": "code",
   "execution_count": 3,
   "outputs": [],
   "source": [
    "df_es[\"hour\"] = df_es[\"DATETIME\"].dt.hour\n",
    "df_es[\"month\"] = df_es[\"DATETIME\"].dt.month\n",
    "df_es[\"dayofweek\"] = df_es[\"DATETIME\"].dt.dayofweek\n",
    "df_es[\"is_weekend\"] = (df_es[\"dayofweek\"] >= 5).astype(int)"
   ],
   "metadata": {
    "collapsed": false,
    "ExecuteTime": {
     "start_time": "2025-04-11T18:55:12.259129Z",
     "end_time": "2025-04-11T18:55:12.289008Z"
    }
   }
  }
 ],
 "metadata": {
  "kernelspec": {
   "display_name": "Python 3",
   "language": "python",
   "name": "python3"
  },
  "language_info": {
   "codemirror_mode": {
    "name": "ipython",
    "version": 2
   },
   "file_extension": ".py",
   "mimetype": "text/x-python",
   "name": "python",
   "nbconvert_exporter": "python",
   "pygments_lexer": "ipython2",
   "version": "2.7.6"
  }
 },
 "nbformat": 4,
 "nbformat_minor": 0
}
